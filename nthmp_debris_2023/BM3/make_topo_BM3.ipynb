{
 "cells": [
  {
   "cell_type": "code",
   "execution_count": null,
   "id": "917fe702",
   "metadata": {},
   "outputs": [],
   "source": [
    "%matplotlib inline"
   ]
  },
  {
   "cell_type": "code",
   "execution_count": null,
   "id": "ef395f50",
   "metadata": {},
   "outputs": [],
   "source": [
    "from pylab import *\n",
    "from clawpack.geoclaw import topotools"
   ]
  },
  {
   "cell_type": "code",
   "execution_count": null,
   "id": "65f2d7ab",
   "metadata": {},
   "outputs": [],
   "source": [
    "datadir = './Benchmark_3/city_bathytopo/'"
   ]
  },
  {
   "cell_type": "code",
   "execution_count": null,
   "id": "2bb18652",
   "metadata": {},
   "outputs": [],
   "source": [
    "x = loadtxt(datadir + '/x_lab.txt')\n",
    "y = loadtxt(datadir + '/y_lab.txt')\n",
    "Z = loadtxt(datadir + '/z_lab.txt')"
   ]
  },
  {
   "cell_type": "code",
   "execution_count": null,
   "id": "a58647a4",
   "metadata": {},
   "outputs": [],
   "source": [
    "print('shapes: ', x.shape,y.shape,Z.shape)"
   ]
  },
  {
   "cell_type": "code",
   "execution_count": null,
   "id": "1a017a93",
   "metadata": {},
   "outputs": [],
   "source": [
    "topo = topotools.Topography()\n",
    "topo.set_xyZ(x, y-4, flipud(Z.T))"
   ]
  },
  {
   "cell_type": "code",
   "execution_count": null,
   "id": "71bcad51",
   "metadata": {},
   "outputs": [],
   "source": [
    "figure(figsize=(13,5))\n",
    "ax = axes()\n",
    "topo.plot(axes=ax,limits=(-0.1,0.1), cb_kwargs={'shrink':0.4})"
   ]
  },
  {
   "cell_type": "code",
   "execution_count": null,
   "id": "858f2399",
   "metadata": {},
   "outputs": [],
   "source": [
    "fname = 'BM3topo.tt3'\n",
    "topo.write(fname, topo_type=3, Z_format=' %.6f')"
   ]
  },
  {
   "cell_type": "code",
   "execution_count": null,
   "id": "ecd42aa7",
   "metadata": {},
   "outputs": [],
   "source": [
    "(topo.x[0],topo.x[-1]), (topo.y[0],topo.y[-1])"
   ]
  },
  {
   "cell_type": "code",
   "execution_count": null,
   "id": "6a663ab2",
   "metadata": {},
   "outputs": [],
   "source": [
    "figure(figsize=(13,8))\n",
    "ax = axes()\n",
    "topo.plot(axes=ax,limits=(-0.1,0.1), cb_kwargs={'shrink':0.4})\n",
    "xlim(-1.5,x[-1])"
   ]
  },
  {
   "cell_type": "code",
   "execution_count": null,
   "id": "5fe7873c",
   "metadata": {},
   "outputs": [],
   "source": [
    "(12.36+8)/0.01"
   ]
  },
  {
   "cell_type": "code",
   "execution_count": null,
   "id": "d6a62c43",
   "metadata": {},
   "outputs": [],
   "source": [
    "2036/4"
   ]
  },
  {
   "cell_type": "code",
   "execution_count": null,
   "id": "fff59990",
   "metadata": {},
   "outputs": [],
   "source": []
  }
 ],
 "metadata": {
  "kernelspec": {
   "display_name": "Python 3 (ipykernel)",
   "language": "python",
   "name": "python3"
  },
  "language_info": {
   "codemirror_mode": {
    "name": "ipython",
    "version": 3
   },
   "file_extension": ".py",
   "mimetype": "text/x-python",
   "name": "python",
   "nbconvert_exporter": "python",
   "pygments_lexer": "ipython3",
   "version": "3.10.9"
  }
 },
 "nbformat": 4,
 "nbformat_minor": 5
}
