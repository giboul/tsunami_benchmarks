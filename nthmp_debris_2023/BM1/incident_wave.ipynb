{
 "cells": [
  {
   "cell_type": "markdown",
   "id": "7f8758d6",
   "metadata": {},
   "source": [
    "# Incident wave\n",
    "\n",
    "Python version of `Benchmark_1/wave_generation/incident_wave.m`.\n",
    "\n",
    "Work in progress for [NTHMP Debris Modeling Benchmarking Workshop](http://tsunamiworkshop.org/index.html), May 2023, by the [UW Tsunami Modeling Group](http://depts.washington.edu/ptha/).\n",
    "\n",
    "Requires the `Benchmark_1/wave_generation` directory available from http://tsunamiworkshop.org/problems/prob1.html"
   ]
  },
  {
   "cell_type": "markdown",
   "id": "5db5d656",
   "metadata": {},
   "source": [
    "This notebook also obtains an attempt to match the data with a tanh or erf function.\n",
    "\n",
    "**Note:** the timing differs in the data `wmdisp.txt` (first plot below) from what is seen at WG2 (second plot below) and from what is shown in `comp_wave_data.ipynb`, `animate_sim_data.ipynb`, and `Benchmark_Problem_1.pdf`."
   ]
  },
  {
   "cell_type": "code",
   "execution_count": null,
   "id": "2525e3fa",
   "metadata": {},
   "outputs": [],
   "source": [
    "%matplotlib inline"
   ]
  },
  {
   "cell_type": "code",
   "execution_count": null,
   "id": "c48cac02",
   "metadata": {},
   "outputs": [],
   "source": [
    "from pylab import *"
   ]
  },
  {
   "cell_type": "code",
   "execution_count": null,
   "id": "f4f9750a",
   "metadata": {},
   "outputs": [],
   "source": [
    "DAQ1 = loadtxt('Benchmark_1/wave_generation/wmdisp.txt', skiprows=1)"
   ]
  },
  {
   "cell_type": "code",
   "execution_count": null,
   "id": "df83eb1e",
   "metadata": {},
   "outputs": [],
   "source": [
    "figure(figsize=(10,3))\n",
    "plot(DAQ1[:,0], DAQ1[:,2]*0.23, 'r')\n",
    "xlim(20,40);\n",
    "xlabel('Time(s)')\n",
    "ylabel('Wavemaker Displacement(m)');"
   ]
  },
  {
   "cell_type": "code",
   "execution_count": null,
   "id": "3691409a",
   "metadata": {},
   "outputs": [],
   "source": [
    "WG2_6 = loadtxt('Benchmark_1/wave_generation/WG2_6.txt',skiprows=1)"
   ]
  },
  {
   "cell_type": "code",
   "execution_count": null,
   "id": "b8e173cc",
   "metadata": {},
   "outputs": [],
   "source": [
    "figure(figsize=(10,3))\n",
    "WG2 = WG2_6[:,1]\n",
    "plot(WG2_6[:,0], WG2, 'r')\n",
    "axis([20, 40, -.05, 0.35])\n",
    "xlabel('Time(s)')\n",
    "ylabel('water Elevation at WG2(m)');"
   ]
  },
  {
   "cell_type": "markdown",
   "id": "2fb22aa0",
   "metadata": {},
   "source": [
    "### Attempt to match the wavemaker function:"
   ]
  },
  {
   "cell_type": "code",
   "execution_count": null,
   "id": "9efe97fd",
   "metadata": {},
   "outputs": [],
   "source": [
    "plot(DAQ1[:,0], DAQ1[:,2]*0.23, 'r',label='DAQ1 data')\n",
    "xlim(20,40);\n",
    "xlabel('Time(s)')\n",
    "ylabel('Wavemaker Displacement(m)');\n",
    "\n",
    "# approximations\n",
    "t = DAQ1[:,0]\n",
    "DA = tanh(0.9*(t-28.35))\n",
    "plot(t,DA,'b--',label='tanh approx')\n",
    "grid(True);\n",
    "\n",
    "s = 0.72 * exp(-0.4*(t - 28.35)**2)\n",
    "dt = 0.02\n",
    "disp = -1 + cumsum(s) * dt\n",
    "plot(t,disp,'g', label='erf approx')\n",
    "\n",
    "legend(loc='lower right')"
   ]
  },
  {
   "cell_type": "code",
   "execution_count": null,
   "id": "05cb314f",
   "metadata": {},
   "outputs": [],
   "source": []
  }
 ],
 "metadata": {
  "kernelspec": {
   "display_name": "Python 3 (ipykernel)",
   "language": "python",
   "name": "python3"
  },
  "language_info": {
   "codemirror_mode": {
    "name": "ipython",
    "version": 3
   },
   "file_extension": ".py",
   "mimetype": "text/x-python",
   "name": "python",
   "nbconvert_exporter": "python",
   "pygments_lexer": "ipython3",
   "version": "3.10.9"
  }
 },
 "nbformat": 4,
 "nbformat_minor": 5
}
